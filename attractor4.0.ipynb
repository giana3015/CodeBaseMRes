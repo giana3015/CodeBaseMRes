{
 "cells": [
  {
   "cell_type": "code",
   "execution_count": 27,
   "metadata": {},
   "outputs": [],
   "source": [
    "import numpy as np\n",
    "import matplotlib.pyplot as plt"
   ]
  },
  {
   "cell_type": "code",
   "execution_count": 28,
   "metadata": {},
   "outputs": [],
   "source": [
    "# STEP 1: Initialize the weight matrix (20x20x400)\n",
    "n_cells = 20\n",
    "W_Mat_mat_size = n_cells ** 2\n",
    "W_Mat = np.zeros(((n_cells, n_cells, W_Mat_mat_size)))\n",
    "\n",
    "# Create a 20x20 matrix where each element represents an index value\n",
    "PC_sheet = np.arange(n_cells * n_cells).reshape(n_cells, n_cells)"
   ]
  },
  {
   "cell_type": "code",
   "execution_count": 29,
   "metadata": {},
   "outputs": [],
   "source": [
    "# STEP 2: Assign values to W_Mat based on PC_sheet\n",
    "for row_index in range(n_cells):  # Iterate over rows\n",
    "    for col_index in range(n_cells):  # Iterate over columns\n",
    "        for k in range(W_Mat_mat_size):  # Iterate over layers\n",
    "            # If PC_sheet[row_index, col_index] matches the layer index k\n",
    "            if PC_sheet[row_index, col_index] == k:\n",
    "                W_Mat[row_index, col_index, k] = k  # Set the value at the matching index\n"
   ]
  },
  {
   "cell_type": "code",
   "execution_count": 52,
   "metadata": {},
   "outputs": [],
   "source": [
    "# STEP 3: Update the weights for each place cell and its neighbors for all layers (k=1 to 400)\n",
    "for layer in range(W_Mat_mat_size):  # Iterate through all layers\n",
    "    for row_index in range(n_cells):  # Iterate over rows\n",
    "        for col_index in range(n_cells):  # Iterate over columns\n",
    "            \n",
    "            # Set the center cell's weight to 1 if PC_sheet[row_index, col_index] matches the current layer k\n",
    "            if PC_sheet[row_index, col_index] == layer:\n",
    "                W_Mat[row_index, col_index, layer] = 1  # Center cell for the current layer\n",
    "\n",
    "                # Update the neighbors' weights to 0.5 (if within bounds)\n",
    "                if row_index > 0:  # Above (not out of bounds)\n",
    "                    W_Mat[row_index - 1, col_index, layer] = 0.5\n",
    "                if row_index < n_cells - 1:  # Below (not out of bounds)\n",
    "                    W_Mat[row_index + 1, col_index, layer] = 0.5\n",
    "                if col_index > 0:  # Left (not out of bounds)\n",
    "                    W_Mat[row_index, col_index - 1, layer] = 0.5\n",
    "                if col_index < n_cells - 1:  # Right (not out of bounds)\n",
    "                    W_Mat[row_index, col_index + 1, layer] = 0.5"
   ]
  },
  {
   "cell_type": "code",
   "execution_count": 62,
   "metadata": {},
   "outputs": [
    {
     "name": "stdout",
     "output_type": "stream",
     "text": [
      "[[0. 0. 0. 0. 0. 0. 0. 0. 0. 0. 0. 0. 0. 0. 0. 0. 0. 0. 0. 0.]\n",
      " [0. 0. 0. 0. 0. 0. 0. 0. 0. 0. 0. 0. 0. 0. 0. 0. 0. 0. 0. 0.]\n",
      " [0. 0. 0. 0. 0. 0. 0. 0. 0. 0. 0. 0. 0. 0. 0. 0. 0. 0. 0. 0.]\n",
      " [0. 0. 0. 0. 0. 0. 0. 0. 0. 0. 0. 0. 0. 0. 0. 0. 0. 0. 0. 0.]\n",
      " [0. 0. 0. 0. 0. 0. 0. 0. 0. 0. 0. 0. 0. 0. 0. 0. 0. 0. 0. 0.]\n",
      " [0. 0. 0. 0. 0. 1. 0. 0. 0. 0. 0. 0. 0. 0. 0. 0. 0. 0. 0. 0.]\n",
      " [0. 0. 0. 0. 0. 0. 0. 0. 0. 0. 0. 0. 0. 0. 0. 0. 0. 0. 0. 0.]\n",
      " [0. 0. 0. 0. 0. 0. 0. 0. 0. 0. 0. 0. 0. 0. 0. 0. 0. 0. 0. 0.]\n",
      " [0. 0. 0. 0. 0. 0. 0. 0. 0. 0. 0. 0. 0. 0. 0. 0. 0. 0. 0. 0.]\n",
      " [0. 0. 0. 0. 0. 0. 0. 0. 0. 0. 0. 0. 0. 0. 0. 0. 0. 0. 0. 0.]\n",
      " [0. 0. 0. 0. 0. 0. 0. 0. 0. 0. 0. 0. 0. 0. 0. 0. 0. 0. 0. 0.]\n",
      " [0. 0. 0. 0. 0. 0. 0. 0. 0. 0. 0. 0. 0. 0. 0. 0. 0. 0. 0. 0.]\n",
      " [0. 0. 0. 0. 0. 0. 0. 0. 0. 0. 0. 0. 0. 0. 0. 0. 0. 0. 0. 0.]\n",
      " [0. 0. 0. 0. 0. 0. 0. 0. 0. 0. 0. 0. 0. 0. 0. 0. 0. 0. 0. 0.]\n",
      " [0. 0. 0. 0. 0. 0. 0. 0. 0. 0. 0. 0. 0. 0. 0. 0. 0. 0. 0. 0.]\n",
      " [0. 0. 0. 0. 0. 0. 0. 0. 0. 0. 0. 0. 0. 0. 0. 0. 0. 0. 0. 0.]\n",
      " [0. 0. 0. 0. 0. 0. 0. 0. 0. 0. 0. 0. 0. 0. 0. 0. 0. 0. 0. 0.]\n",
      " [0. 0. 0. 0. 0. 0. 0. 0. 0. 0. 0. 0. 0. 0. 0. 0. 0. 0. 0. 0.]\n",
      " [0. 0. 0. 0. 0. 0. 0. 0. 0. 0. 0. 0. 0. 0. 0. 0. 0. 0. 0. 0.]\n",
      " [0. 0. 0. 0. 0. 0. 0. 0. 0. 0. 0. 0. 0. 0. 0. 0. 0. 0. 0. 0.]]\n"
     ]
    }
   ],
   "source": [
    "# Initialize a 20x20 sensory input matrix with zeros\n",
    "sensory_input = np.zeros((20, 20))\n",
    "\n",
    "# Set the value at position (5, 5) to 1\n",
    "sensory_input[5, 5] = 1\n",
    "print(sensory_input)"
   ]
  },
  {
   "cell_type": "code",
   "execution_count": 40,
   "metadata": {},
   "outputs": [],
   "source": [
    "# STEP 5: Initialize an empty output array to store results\n",
    "output = np.zeros((n_cells, n_cells))"
   ]
  }
 ],
 "metadata": {
  "kernelspec": {
   "display_name": "base",
   "language": "python",
   "name": "python3"
  },
  "language_info": {
   "codemirror_mode": {
    "name": "ipython",
    "version": 3
   },
   "file_extension": ".py",
   "mimetype": "text/x-python",
   "name": "python",
   "nbconvert_exporter": "python",
   "pygments_lexer": "ipython3",
   "version": "3.11.7"
  }
 },
 "nbformat": 4,
 "nbformat_minor": 2
}
